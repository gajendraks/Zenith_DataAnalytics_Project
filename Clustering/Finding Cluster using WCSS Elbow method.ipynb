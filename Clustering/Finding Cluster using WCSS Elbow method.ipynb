{
 "cells": [
  {
   "cell_type": "code",
   "execution_count": 19,
   "metadata": {},
   "outputs": [],
   "source": [
    "import pandas as pd \n",
    "import numpy as np\n",
    "from sklearn.cluster import KMeans\n",
    "import seaborn as sns\n",
    "import matplotlib.pyplot as plt \n",
    "import cmath as math\n",
    "import sys\n",
    "from sklearn import metrics\n",
    "from scipy.spatial.distance import cdist"
   ]
  },
  {
   "cell_type": "code",
   "execution_count": 23,
   "metadata": {},
   "outputs": [
    {
     "data": {
      "text/html": [
       "<div>\n",
       "<style scoped>\n",
       "    .dataframe tbody tr th:only-of-type {\n",
       "        vertical-align: middle;\n",
       "    }\n",
       "\n",
       "    .dataframe tbody tr th {\n",
       "        vertical-align: top;\n",
       "    }\n",
       "\n",
       "    .dataframe thead th {\n",
       "        text-align: right;\n",
       "    }\n",
       "</style>\n",
       "<table border=\"1\" class=\"dataframe\">\n",
       "  <thead>\n",
       "    <tr style=\"text-align: right;\">\n",
       "      <th></th>\n",
       "      <th>player_name</th>\n",
       "      <th>runs_conceded</th>\n",
       "      <th>wickets_taken</th>\n",
       "      <th>overs_bowled</th>\n",
       "      <th>bowling_average</th>\n",
       "      <th>economy_rate</th>\n",
       "      <th>bowling_strike_rate</th>\n",
       "    </tr>\n",
       "  </thead>\n",
       "  <tbody>\n",
       "    <tr>\n",
       "      <th>0</th>\n",
       "      <td>A Ashish Reddy</td>\n",
       "      <td>396</td>\n",
       "      <td>18</td>\n",
       "      <td>43.4</td>\n",
       "      <td>22.0</td>\n",
       "      <td>9.12</td>\n",
       "      <td>14.47</td>\n",
       "    </tr>\n",
       "    <tr>\n",
       "      <th>1</th>\n",
       "      <td>A Chandila</td>\n",
       "      <td>242</td>\n",
       "      <td>11</td>\n",
       "      <td>39.0</td>\n",
       "      <td>22.0</td>\n",
       "      <td>6.21</td>\n",
       "      <td>21.27</td>\n",
       "    </tr>\n",
       "    <tr>\n",
       "      <th>2</th>\n",
       "      <td>A Choudhary</td>\n",
       "      <td>144</td>\n",
       "      <td>5</td>\n",
       "      <td>16.5</td>\n",
       "      <td>28.8</td>\n",
       "      <td>8.73</td>\n",
       "      <td>19.80</td>\n",
       "    </tr>\n",
       "    <tr>\n",
       "      <th>3</th>\n",
       "      <td>A Dananjaya</td>\n",
       "      <td>47</td>\n",
       "      <td>0</td>\n",
       "      <td>4.0</td>\n",
       "      <td>NaN</td>\n",
       "      <td>11.75</td>\n",
       "      <td>NaN</td>\n",
       "    </tr>\n",
       "    <tr>\n",
       "      <th>4</th>\n",
       "      <td>A Flintoff</td>\n",
       "      <td>105</td>\n",
       "      <td>2</td>\n",
       "      <td>11.0</td>\n",
       "      <td>52.5</td>\n",
       "      <td>9.55</td>\n",
       "      <td>33.00</td>\n",
       "    </tr>\n",
       "  </tbody>\n",
       "</table>\n",
       "</div>"
      ],
      "text/plain": [
       "      player_name  runs_conceded  wickets_taken  overs_bowled  \\\n",
       "0  A Ashish Reddy            396             18          43.4   \n",
       "1      A Chandila            242             11          39.0   \n",
       "2     A Choudhary            144              5          16.5   \n",
       "3     A Dananjaya             47              0           4.0   \n",
       "4      A Flintoff            105              2          11.0   \n",
       "\n",
       "   bowling_average  economy_rate  bowling_strike_rate  \n",
       "0             22.0          9.12                14.47  \n",
       "1             22.0          6.21                21.27  \n",
       "2             28.8          8.73                19.80  \n",
       "3              NaN         11.75                  NaN  \n",
       "4             52.5          9.55                33.00  "
      ]
     },
     "execution_count": 23,
     "metadata": {},
     "output_type": "execute_result"
    }
   ],
   "source": [
    "batting=pd.read_csv(\"./../Data/stats_batting_2.csv\")\n",
    "bowling=pd.read_csv(\"./../Data/stats_bowling_1.csv\")\n",
    "\n",
    "# batting.head()\n",
    "bowling.head()"
   ]
  },
  {
   "cell_type": "code",
   "execution_count": 27,
   "metadata": {},
   "outputs": [],
   "source": [
    "batting.dropna(inplace=True)\n",
    "bowling.dropna(inplace=True)"
   ]
  },
  {
   "cell_type": "code",
   "execution_count": 28,
   "metadata": {},
   "outputs": [],
   "source": [
    "#we thought of taking only batting avg and strike rate for clustering but\n",
    "#the guy who faced 1 ball and hit 1 run also belongs to top batsmans cluster so we are considering all\n",
    "FEATURES_COL=[\"runs_scored\",\"balls_faced\",\"times_out\",\"batting_avg\",\"strike_rate\"]\n",
    "FEATURES_COL_BOWL=[\"runs_conceded\",\"wickets_taken\",\"overs_bowled\",\"bowling_average\",\"economy_rate\",\"bowling_strike_rate\"]"
   ]
  },
  {
   "cell_type": "code",
   "execution_count": 29,
   "metadata": {},
   "outputs": [],
   "source": [
    "batting[FEATURES_COL] = batting[FEATURES_COL].astype(float)\n",
    "bowling[FEATURES_COL_BOWL]=bowling[FEATURES_COL_BOWL].astype(float)"
   ]
  },
  {
   "cell_type": "code",
   "execution_count": 30,
   "metadata": {},
   "outputs": [],
   "source": [
    "x=batting.iloc[:,[1,2,3,4,5]].values\n",
    "y_set=batting.iloc[:,[0]].values"
   ]
  },
  {
   "cell_type": "code",
   "execution_count": 34,
   "metadata": {},
   "outputs": [
    {
     "data": {
      "image/png": "[encoded data removed]",
      "text/plain": [
       "<Figure size 432x288 with 1 Axes>"
      ]
     },
     "metadata": {
      "needs_background": "light"
     },
     "output_type": "display_data"
    },
    {
     "data": {
      "text/plain": [
       "<Figure size 432x288 with 0 Axes>"
      ]
     },
     "metadata": {},
     "output_type": "display_data"
    }
   ],
   "source": [
    "# k means determine k\n",
    "distortions = []\n",
    "K = range(1,20)\n",
    "for k in K:\n",
    "    kmeanModel = KMeans(n_clusters=k).fit(x)\n",
    "    kmeanModel.fit(x)\n",
    "    distortions.append(sum(np.min(cdist(x, kmeanModel.cluster_centers_, 'euclidean'), axis=1)) / x.shape[0])\n",
    "\n",
    "# Plot the elbow\n",
    "plt.plot(K, distortions, 'bx-')\n",
    "plt.xlabel('k')\n",
    "plt.ylabel('Distortion')\n",
    "plt.title('The Elbow Method showing the optimal k')\n",
    "plt.show()\n",
    "plt.savefig(\"batsman_elbow.png\")\n",
    " "
   ]
  },
  {
   "cell_type": "code",
   "execution_count": 32,
   "metadata": {},
   "outputs": [],
   "source": [
    "x=bowling.iloc[:,[1,2,3,4,5,6]].values\n",
    "y_set=bowling.iloc[:,[0]].values"
   ]
  },
  {
   "cell_type": "code",
   "execution_count": 33,
   "metadata": {},
   "outputs": [
    {
     "data": {
      "image/png": "[encoded data removed]",
      "text/plain": [
       "<Figure size 432x288 with 1 Axes>"
      ]
     },
     "metadata": {
      "needs_background": "light"
     },
     "output_type": "display_data"
    }
   ],
   "source": [
    "# k means determine k\n",
    "distortions = []\n",
    "K = range(1,20)\n",
    "for k in K:\n",
    "    kmeanModel = KMeans(n_clusters=k).fit(x)\n",
    "    kmeanModel.fit(x)\n",
    "    distortions.append(sum(np.min(cdist(x, kmeanModel.cluster_centers_, 'euclidean'), axis=1)) / x.shape[0])\n",
    "\n",
    "# Plot the elbow\n",
    "plt.plot(K, distortions, 'bx-')\n",
    "plt.xlabel('k')\n",
    "plt.ylabel('Distortion')\n",
    "plt.title('The Elbow Method showing the optimal k')\n",
    "plt.show()\n"
   ]
  }
 ],
 "metadata": {
  "kernelspec": {
   "display_name": "Python 3",
   "language": "python",
   "name": "python3"
  },
  "language_info": {
   "codemirror_mode": {
    "name": "ipython",
    "version": 3
   },
   "file_extension": ".py",
   "mimetype": "text/x-python",
   "name": "python",
   "nbconvert_exporter": "python",
   "pygments_lexer": "ipython3",
   "version": "3.7.0"
  }
 },
 "nbformat": 4,
 "nbformat_minor": 2
}
