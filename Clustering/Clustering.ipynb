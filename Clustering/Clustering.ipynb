{
 "cells": [
  {
   "cell_type": "code",
   "execution_count": 1,
   "metadata": {},
   "outputs": [],
   "source": [
    "import pandas as pd \n",
    "import numpy as np\n",
    "from sklearn.cluster import KMeans"
   ]
  },
  {
   "cell_type": "code",
   "execution_count": 3,
   "metadata": {},
   "outputs": [
    {
     "data": {
      "text/html": [
       "<div>\n",
       "<style scoped>\n",
       "    .dataframe tbody tr th:only-of-type {\n",
       "        vertical-align: middle;\n",
       "    }\n",
       "\n",
       "    .dataframe tbody tr th {\n",
       "        vertical-align: top;\n",
       "    }\n",
       "\n",
       "    .dataframe thead th {\n",
       "        text-align: right;\n",
       "    }\n",
       "</style>\n",
       "<table border=\"1\" class=\"dataframe\">\n",
       "  <thead>\n",
       "    <tr style=\"text-align: right;\">\n",
       "      <th></th>\n",
       "      <th>player_name</th>\n",
       "      <th>runs_scored</th>\n",
       "      <th>balls_faced</th>\n",
       "      <th>times_out</th>\n",
       "      <th>batting_avg</th>\n",
       "      <th>strike_rate</th>\n",
       "    </tr>\n",
       "  </thead>\n",
       "  <tbody>\n",
       "    <tr>\n",
       "      <th>0</th>\n",
       "      <td>A Ashish Reddy</td>\n",
       "      <td>280</td>\n",
       "      <td>193</td>\n",
       "      <td>15</td>\n",
       "      <td>18.67</td>\n",
       "      <td>145.08</td>\n",
       "    </tr>\n",
       "    <tr>\n",
       "      <th>1</th>\n",
       "      <td>A Chopra</td>\n",
       "      <td>53</td>\n",
       "      <td>71</td>\n",
       "      <td>6</td>\n",
       "      <td>8.83</td>\n",
       "      <td>74.65</td>\n",
       "    </tr>\n",
       "    <tr>\n",
       "      <th>2</th>\n",
       "      <td>A Choudhary</td>\n",
       "      <td>25</td>\n",
       "      <td>20</td>\n",
       "      <td>1</td>\n",
       "      <td>25.00</td>\n",
       "      <td>125.00</td>\n",
       "    </tr>\n",
       "    <tr>\n",
       "      <th>3</th>\n",
       "      <td>A Flintoff</td>\n",
       "      <td>62</td>\n",
       "      <td>53</td>\n",
       "      <td>2</td>\n",
       "      <td>31.00</td>\n",
       "      <td>116.98</td>\n",
       "    </tr>\n",
       "    <tr>\n",
       "      <th>4</th>\n",
       "      <td>A Kumble</td>\n",
       "      <td>35</td>\n",
       "      <td>47</td>\n",
       "      <td>3</td>\n",
       "      <td>11.67</td>\n",
       "      <td>74.47</td>\n",
       "    </tr>\n",
       "  </tbody>\n",
       "</table>\n",
       "</div>"
      ],
      "text/plain": [
       "      player_name  runs_scored  balls_faced  times_out  batting_avg  \\\n",
       "0  A Ashish Reddy          280          193         15        18.67   \n",
       "1        A Chopra           53           71          6         8.83   \n",
       "2     A Choudhary           25           20          1        25.00   \n",
       "3      A Flintoff           62           53          2        31.00   \n",
       "4        A Kumble           35           47          3        11.67   \n",
       "\n",
       "   strike_rate  \n",
       "0       145.08  \n",
       "1        74.65  \n",
       "2       125.00  \n",
       "3       116.98  \n",
       "4        74.47  "
      ]
     },
     "execution_count": 3,
     "metadata": {},
     "output_type": "execute_result"
    }
   ],
   "source": [
    "batting=pd.read_csv(\"/home/gajendra/Documents/Data_Analytics_IPL/web_scraping/batting/stats_batting_2.csv\")\n",
    "bowling=pd.read_csv(\"/home/gajendra/Documents/Data_Analytics_IPL/web_scraping/bowling/stats_bowling_1.csv\")\n",
    "\n",
    "batting.head()\n",
    "# bowling.head()"
   ]
  },
  {
   "cell_type": "code",
   "execution_count": 9,
   "metadata": {},
   "outputs": [],
   "source": [
    "batting.dropna(inplace=True)\n",
    "bowling.dropna(inplace=True)"
   ]
  },
  {
   "cell_type": "code",
   "execution_count": 11,
   "metadata": {},
   "outputs": [],
   "source": [
    "FEATURES_COL=[\"runs_scored\",\"balls_faced\",\"times_out\",\"batting_avg\",\"strike_rate\"]\n",
    "FEATURES_COL_BOWL=[\"runs_conceded\",\"wickets_taken\",\"overs_bowled\",\"bowling_average\",\"economy_rate\",\"bowling_strike_rate\"]"
   ]
  },
  {
   "cell_type": "code",
   "execution_count": 12,
   "metadata": {},
   "outputs": [],
   "source": [
    "batting[FEATURES_COL] = batting[FEATURES_COL].astype(float)\n",
    "bowling[FEATURES_COL_BOWL]=bowling[FEATURES_COL_BOWL].astype(float)"
   ]
  },
  {
   "cell_type": "code",
   "execution_count": 13,
   "metadata": {},
   "outputs": [],
   "source": [
    "kmeans = KMeans(n_clusters=10)\n",
    "kmeans.fit(batting[FEATURES_COL])\n",
    "batting[\"cluster\"] = kmeans.labels_\n",
    "\n",
    "kmeans = KMeans(n_clusters=7)\n",
    "kmeans.fit(bowling[FEATURES_COL_BOWL])\n",
    "bowling[\"cluster\"] = kmeans.labels_"
   ]
  },
  {
   "cell_type": "code",
   "execution_count": 14,
   "metadata": {
    "scrolled": true
   },
   "outputs": [
    {
     "data": {
      "text/html": [
       "<div>\n",
       "<style scoped>\n",
       "    .dataframe tbody tr th:only-of-type {\n",
       "        vertical-align: middle;\n",
       "    }\n",
       "\n",
       "    .dataframe tbody tr th {\n",
       "        vertical-align: top;\n",
       "    }\n",
       "\n",
       "    .dataframe thead th {\n",
       "        text-align: right;\n",
       "    }\n",
       "</style>\n",
       "<table border=\"1\" class=\"dataframe\">\n",
       "  <thead>\n",
       "    <tr style=\"text-align: right;\">\n",
       "      <th></th>\n",
       "      <th>player_name</th>\n",
       "      <th>runs_conceded</th>\n",
       "      <th>wickets_taken</th>\n",
       "      <th>overs_bowled</th>\n",
       "      <th>bowling_average</th>\n",
       "      <th>economy_rate</th>\n",
       "      <th>bowling_strike_rate</th>\n",
       "      <th>cluster</th>\n",
       "    </tr>\n",
       "  </thead>\n",
       "  <tbody>\n",
       "    <tr>\n",
       "      <th>0</th>\n",
       "      <td>A Ashish Reddy</td>\n",
       "      <td>396.0</td>\n",
       "      <td>18.0</td>\n",
       "      <td>43.4</td>\n",
       "      <td>22.00</td>\n",
       "      <td>9.12</td>\n",
       "      <td>14.47</td>\n",
       "      <td>0</td>\n",
       "    </tr>\n",
       "    <tr>\n",
       "      <th>1</th>\n",
       "      <td>A Chandila</td>\n",
       "      <td>242.0</td>\n",
       "      <td>11.0</td>\n",
       "      <td>39.0</td>\n",
       "      <td>22.00</td>\n",
       "      <td>6.21</td>\n",
       "      <td>21.27</td>\n",
       "      <td>0</td>\n",
       "    </tr>\n",
       "    <tr>\n",
       "      <th>2</th>\n",
       "      <td>A Choudhary</td>\n",
       "      <td>144.0</td>\n",
       "      <td>5.0</td>\n",
       "      <td>16.5</td>\n",
       "      <td>28.80</td>\n",
       "      <td>8.73</td>\n",
       "      <td>19.80</td>\n",
       "      <td>5</td>\n",
       "    </tr>\n",
       "    <tr>\n",
       "      <th>4</th>\n",
       "      <td>A Flintoff</td>\n",
       "      <td>105.0</td>\n",
       "      <td>2.0</td>\n",
       "      <td>11.0</td>\n",
       "      <td>52.50</td>\n",
       "      <td>9.55</td>\n",
       "      <td>33.00</td>\n",
       "      <td>5</td>\n",
       "    </tr>\n",
       "    <tr>\n",
       "      <th>5</th>\n",
       "      <td>A Kumble</td>\n",
       "      <td>1058.0</td>\n",
       "      <td>45.0</td>\n",
       "      <td>160.5</td>\n",
       "      <td>23.51</td>\n",
       "      <td>6.59</td>\n",
       "      <td>21.40</td>\n",
       "      <td>4</td>\n",
       "    </tr>\n",
       "  </tbody>\n",
       "</table>\n",
       "</div>"
      ],
      "text/plain": [
       "      player_name  runs_conceded  wickets_taken  overs_bowled  \\\n",
       "0  A Ashish Reddy          396.0           18.0          43.4   \n",
       "1      A Chandila          242.0           11.0          39.0   \n",
       "2     A Choudhary          144.0            5.0          16.5   \n",
       "4      A Flintoff          105.0            2.0          11.0   \n",
       "5        A Kumble         1058.0           45.0         160.5   \n",
       "\n",
       "   bowling_average  economy_rate  bowling_strike_rate  cluster  \n",
       "0            22.00          9.12                14.47        0  \n",
       "1            22.00          6.21                21.27        0  \n",
       "2            28.80          8.73                19.80        5  \n",
       "4            52.50          9.55                33.00        5  \n",
       "5            23.51          6.59                21.40        4  "
      ]
     },
     "execution_count": 14,
     "metadata": {},
     "output_type": "execute_result"
    }
   ],
   "source": [
    "bowling.head()"
   ]
  },
  {
   "cell_type": "code",
   "execution_count": 15,
   "metadata": {},
   "outputs": [],
   "source": [
    "batting_cluster=batting[['player_name','cluster']]\n",
    "bowling_cluster=bowling[['player_name','cluster']]"
   ]
  },
  {
   "cell_type": "code",
   "execution_count": 17,
   "metadata": {},
   "outputs": [],
   "source": [
    "batting_cluster.to_csv(\"/home/gajendra/Documents/Data_Analytics_IPL/Clustering/batting_cluster.csv\")\n",
    "bowling_cluster.to_csv(\"/home/gajendra/Documents/Data_Analytics_IPL/Clustering/bowling_cluster.csv\")"
   ]
  }
 ],
 "metadata": {
  "kernelspec": {
   "display_name": "Python 2",
   "language": "python",
   "name": "python2"
  },
  "language_info": {
   "codemirror_mode": {
    "name": "ipython",
    "version": 2
   },
   "file_extension": ".py",
   "mimetype": "text/x-python",
   "name": "python",
   "nbconvert_exporter": "python",
   "pygments_lexer": "ipython2",
   "version": "2.7.15rc1"
  }
 },
 "nbformat": 4,
 "nbformat_minor": 2
}
