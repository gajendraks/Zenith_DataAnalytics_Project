{
 "cells": [
  {
   "cell_type": "code",
   "execution_count": 16,
   "metadata": {},
   "outputs": [],
   "source": [
    "#this is code is done using mllibs clustering for finding the k clusters\n",
    "import numpy as np\n",
    "import pandas as pd\n",
    "from numpy import array\n",
    "from math import sqrt\n",
    "from pyspark.mllib.clustering import KMeans, KMeansModel\n",
    "from pyspark.ml.feature import VectorAssembler\n",
    "from pyspark.ml.clustering import KMeans\n",
    "import matplotlib.pyplot as plt\n",
    "\n",
    "from pyspark.sql.functions import col\n"
   ]
  },
  {
   "cell_type": "code",
   "execution_count": 5,
   "metadata": {},
   "outputs": [
    {
     "name": "stdout",
     "output_type": "stream",
     "text": [
      "+---------------+-------------+-------------+------------------+---------------+------------+-------------------+\n",
      "|    player_name|runs_conceded|wickets_taken|      overs_bowled|bowling_average|economy_rate|bowling_strike_rate|\n",
      "+---------------+-------------+-------------+------------------+---------------+------------+-------------------+\n",
      "| A Ashish Reddy|          396|           18|43.400000000000006|           22.0|        9.12|              14.47|\n",
      "|     A Chandila|          242|           11|              39.0|           22.0|        6.21|              21.27|\n",
      "|    A Choudhary|          144|            5|              16.5|           28.8|        8.73|               19.8|\n",
      "|    A Dananjaya|           47|            0|               4.0|           null|       11.75|               null|\n",
      "|     A Flintoff|          105|            2|              11.0|           52.5|        9.55|               33.0|\n",
      "|       A Kumble|         1058|           45|             160.5|          23.51|        6.59|               21.4|\n",
      "|       A Mishra|         3525|          146|             476.5|          24.14|         7.4|              19.58|\n",
      "|       A Mithun|          472|            7|              48.0|          67.43|        9.83|              41.14|\n",
      "|        A Nehra|         2495|          106|             317.6|          23.54|        7.86|              17.98|\n",
      "|          A Nel|           31|            1|               3.0|           31.0|       10.33|               18.0|\n",
      "|        A Singh|          620|           28|              78.5|          22.14|         7.9|              16.82|\n",
      "|      A Symonds|          674|           20|              87.5|           33.7|         7.7|              26.25|\n",
      "|       A Uniyal|           66|            2|               6.0|           33.0|        11.0|               18.0|\n",
      "|        A Zampa|          278|           19|              36.5|          14.63|        7.62|              11.53|\n",
      "|      AA Chavan|          326|            8|              41.2|          40.75|        7.91|               30.9|\n",
      "|AA Jhunjhunwala|          129|            1|              14.1|          129.0|        9.15|               84.6|\n",
      "|        AA Kazi|           21|            0|               2.0|           null|        10.5|               null|\n",
      "|      AA Noffke|           40|            1|               4.0|           40.0|        10.0|               24.0|\n",
      "|     AB Agarkar|         1151|           29|             130.2|          39.69|        8.84|              26.94|\n",
      "|       AB Dinda|         2073|           69|             252.4|          30.04|        8.21|              21.95|\n",
      "+---------------+-------------+-------------+------------------+---------------+------------+-------------------+\n",
      "only showing top 20 rows\n",
      "\n",
      "+---------------+-----------+-----------+---------+-----------+-----------+\n",
      "|    player_name|runs_scored|balls_faced|times_out|batting_avg|strike_rate|\n",
      "+---------------+-----------+-----------+---------+-----------+-----------+\n",
      "| A Ashish Reddy|        280|        193|       15|      18.67|     145.08|\n",
      "|       A Chopra|         53|         71|        6|       8.83|      74.65|\n",
      "|    A Choudhary|         25|         20|        1|       25.0|      125.0|\n",
      "|     A Flintoff|         62|         53|        2|       31.0|     116.98|\n",
      "|       A Kumble|         35|         47|        3|      11.67|      74.47|\n",
      "|       A Mishra|        341|        365|       29|      11.76|      93.42|\n",
      "|       A Mithun|         34|         26|        5|        6.8|     130.77|\n",
      "|       A Mukund|         19|         22|        2|        9.5|      86.36|\n",
      "|        A Nehra|         41|         62|        7|       5.86|      66.13|\n",
      "|        A Singh|          2|         10|        4|        0.5|       20.0|\n",
      "|      A Symonds|        974|        750|       27|      36.07|     129.87|\n",
      "|       A Uniyal|          4|          7|        1|        4.0|      57.14|\n",
      "|        A Zampa|          5|          8|        2|        2.5|       62.5|\n",
      "|    AA Bilakhia|         69|         85|        5|       13.8|      81.18|\n",
      "|      AA Chavan|         12|         11|        2|        6.0|     109.09|\n",
      "|AA Jhunjhunwala|        217|        210|       13|      16.69|     103.33|\n",
      "|      AA Noffke|          9|         10|        1|        9.0|       90.0|\n",
      "|     AB Agarkar|        179|        154|       10|       17.9|     116.23|\n",
      "|      AB Barath|         42|         42|        2|       21.0|      100.0|\n",
      "|       AB Dinda|         26|         48|       10|        2.6|      54.17|\n",
      "+---------------+-----------+-----------+---------+-----------+-----------+\n",
      "only showing top 20 rows\n",
      "\n"
     ]
    }
   ],
   "source": [
    "spark.version\n",
    "sqlContext = SQLContext(sc)\n",
    "batting=sqlContext.read.csv(\"/home/gajendra/Documents/Data_Analytics_IPL/web_scraping/batting/stats_batting_2.csv\", header=True, mode=\"DROPMALFORMED\")\n",
    "bowling=sqlContext.read.csv(\"/home/gajendra/Documents/Data_Analytics_IPL/web_scraping/bowling/stats_bowling_1.csv\", header=True, mode=\"DROPMALFORMED\")\n",
    "bowling.show()\n",
    "batting.show()"
   ]
  },
  {
   "cell_type": "code",
   "execution_count": 9,
   "metadata": {},
   "outputs": [],
   "source": [
    "batting.na.drop()\n",
    "bowling=bowling.na.drop()\n",
    "\n",
    "FEATURES_COL=[\"runs_scored\",\"balls_faced\",\"times_out\",\"batting_avg\",\"strike_rate\"]\n",
    "FEATURES_COL_BOWL=[\"runs_conceded\",\"wickets_taken\",\"overs_bowled\",\"bowling_average\",\"economy_rate\",\"bowling_strike_rate\"]\n",
    "\n",
    "# df_feat = batting.select(*(batting[c].cast(\"float\").alias(c) for c in batting.columns[1:]))\n",
    "# df_feat_bowl = bowling.select(*(bowling[c].cast(\"float\").alias(c) for c in bowling.columns[1:]))\n",
    "\n",
    "# df_feat_bowl.show()\n",
    "# df_feat.show()"
   ]
  },
  {
   "cell_type": "code",
   "execution_count": 10,
   "metadata": {},
   "outputs": [],
   "source": [
    "for col in batting.columns:\n",
    "    if col in FEATURES_COL:\n",
    "        batting = batting.withColumn(col,batting[col].cast('float'))\n",
    "\n",
    "for col in bowling.columns:\n",
    "    if col in FEATURES_COL_BOWL:\n",
    "        bowling = bowling.withColumn(col,bowling[col].cast('float'))\n"
   ]
  },
  {
   "cell_type": "code",
   "execution_count": 11,
   "metadata": {},
   "outputs": [
    {
     "name": "stdout",
     "output_type": "stream",
     "text": [
      "+---------------+--------------------+\n",
      "|    player_name|            features|\n",
      "+---------------+--------------------+\n",
      "| A Ashish Reddy|[280.0,193.0,15.0...|\n",
      "|       A Chopra|[53.0,71.0,6.0,8....|\n",
      "|    A Choudhary|[25.0,20.0,1.0,25...|\n",
      "|     A Flintoff|[62.0,53.0,2.0,31...|\n",
      "|       A Kumble|[35.0,47.0,3.0,11...|\n",
      "|       A Mishra|[341.0,365.0,29.0...|\n",
      "|       A Mithun|[34.0,26.0,5.0,6....|\n",
      "|       A Mukund|[19.0,22.0,2.0,9....|\n",
      "|        A Nehra|[41.0,62.0,7.0,5....|\n",
      "|        A Singh|[2.0,10.0,4.0,0.5...|\n",
      "|      A Symonds|[974.0,750.0,27.0...|\n",
      "|       A Uniyal|[4.0,7.0,1.0,4.0,...|\n",
      "|        A Zampa|[5.0,8.0,2.0,2.5,...|\n",
      "|    AA Bilakhia|[69.0,85.0,5.0,13...|\n",
      "|      AA Chavan|[12.0,11.0,2.0,6....|\n",
      "|AA Jhunjhunwala|[217.0,210.0,13.0...|\n",
      "|      AA Noffke|[9.0,10.0,1.0,9.0...|\n",
      "|     AB Agarkar|[179.0,154.0,10.0...|\n",
      "|      AB Barath|[42.0,42.0,2.0,21...|\n",
      "|       AB Dinda|[26.0,48.0,10.0,2...|\n",
      "+---------------+--------------------+\n",
      "only showing top 20 rows\n",
      "\n",
      "+---------------+--------------------+\n",
      "|    player_name|       features_bowl|\n",
      "+---------------+--------------------+\n",
      "| A Ashish Reddy|[396.0,18.0,43.40...|\n",
      "|     A Chandila|[242.0,11.0,39.0,...|\n",
      "|    A Choudhary|[144.0,5.0,16.5,2...|\n",
      "|     A Flintoff|[105.0,2.0,11.0,5...|\n",
      "|       A Kumble|[1058.0,45.0,160....|\n",
      "|       A Mishra|[3525.0,146.0,476...|\n",
      "|       A Mithun|[472.0,7.0,48.0,6...|\n",
      "|        A Nehra|[2495.0,106.0,317...|\n",
      "|          A Nel|[31.0,1.0,3.0,31....|\n",
      "|        A Singh|[620.0,28.0,78.5,...|\n",
      "|      A Symonds|[674.0,20.0,87.5,...|\n",
      "|       A Uniyal|[66.0,2.0,6.0,33....|\n",
      "|        A Zampa|[278.0,19.0,36.5,...|\n",
      "|      AA Chavan|[326.0,8.0,41.200...|\n",
      "|AA Jhunjhunwala|[129.0,1.0,14.100...|\n",
      "|      AA Noffke|[40.0,1.0,4.0,40....|\n",
      "|     AB Agarkar|[1151.0,29.0,130....|\n",
      "|       AB Dinda|[2073.0,69.0,252....|\n",
      "|    AB McDonald|[261.0,11.0,31.0,...|\n",
      "|   AC Gilchrist|[0.0,1.0,0.100000...|\n",
      "+---------------+--------------------+\n",
      "only showing top 20 rows\n",
      "\n"
     ]
    }
   ],
   "source": [
    "vecAssembler = VectorAssembler(inputCols=FEATURES_COL, outputCol=\"features\")\n",
    "df_kmeans = vecAssembler.transform(batting).select('player_name', 'features')\n",
    "df_kmeans.show()\n",
    "\n",
    "vecAssembler_bowl = VectorAssembler(inputCols=FEATURES_COL_BOWL, outputCol=\"features_bowl\")\n",
    "df_kmeans_bowl = vecAssembler_bowl.transform(bowling).select('player_name', 'features_bowl')\n",
    "df_kmeans_bowl.show()\n"
   ]
  },
  {
   "cell_type": "code",
   "execution_count": 12,
   "metadata": {},
   "outputs": [
    {
     "name": "stdout",
     "output_type": "stream",
     "text": [
      "+---------------+--------------------+\n",
      "|    player_name|            features|\n",
      "+---------------+--------------------+\n",
      "| A Ashish Reddy|[280.0,193.0,15.0...|\n",
      "|       A Chopra|[53.0,71.0,6.0,8....|\n",
      "|    A Choudhary|[25.0,20.0,1.0,25...|\n",
      "|     A Flintoff|[62.0,53.0,2.0,31...|\n",
      "|       A Kumble|[35.0,47.0,3.0,11...|\n",
      "|       A Mishra|[341.0,365.0,29.0...|\n",
      "|       A Mithun|[34.0,26.0,5.0,6....|\n",
      "|       A Mukund|[19.0,22.0,2.0,9....|\n",
      "|        A Nehra|[41.0,62.0,7.0,5....|\n",
      "|        A Singh|[2.0,10.0,4.0,0.5...|\n",
      "|      A Symonds|[974.0,750.0,27.0...|\n",
      "|       A Uniyal|[4.0,7.0,1.0,4.0,...|\n",
      "|        A Zampa|[5.0,8.0,2.0,2.5,...|\n",
      "|    AA Bilakhia|[69.0,85.0,5.0,13...|\n",
      "|      AA Chavan|[12.0,11.0,2.0,6....|\n",
      "|AA Jhunjhunwala|[217.0,210.0,13.0...|\n",
      "|      AA Noffke|[9.0,10.0,1.0,9.0...|\n",
      "|     AB Agarkar|[179.0,154.0,10.0...|\n",
      "|      AB Barath|[42.0,42.0,2.0,21...|\n",
      "|       AB Dinda|[26.0,48.0,10.0,2...|\n",
      "+---------------+--------------------+\n",
      "only showing top 20 rows\n",
      "\n",
      "+---------------+--------------------+\n",
      "|    player_name|       features_bowl|\n",
      "+---------------+--------------------+\n",
      "| A Ashish Reddy|[396.0,18.0,43.40...|\n",
      "|     A Chandila|[242.0,11.0,39.0,...|\n",
      "|    A Choudhary|[144.0,5.0,16.5,2...|\n",
      "|     A Flintoff|[105.0,2.0,11.0,5...|\n",
      "|       A Kumble|[1058.0,45.0,160....|\n",
      "|       A Mishra|[3525.0,146.0,476...|\n",
      "|       A Mithun|[472.0,7.0,48.0,6...|\n",
      "|        A Nehra|[2495.0,106.0,317...|\n",
      "|          A Nel|[31.0,1.0,3.0,31....|\n",
      "|        A Singh|[620.0,28.0,78.5,...|\n",
      "|      A Symonds|[674.0,20.0,87.5,...|\n",
      "|       A Uniyal|[66.0,2.0,6.0,33....|\n",
      "|        A Zampa|[278.0,19.0,36.5,...|\n",
      "|      AA Chavan|[326.0,8.0,41.200...|\n",
      "|AA Jhunjhunwala|[129.0,1.0,14.100...|\n",
      "|      AA Noffke|[40.0,1.0,4.0,40....|\n",
      "|     AB Agarkar|[1151.0,29.0,130....|\n",
      "|       AB Dinda|[2073.0,69.0,252....|\n",
      "|    AB McDonald|[261.0,11.0,31.0,...|\n",
      "|   AC Gilchrist|[0.0,1.0,0.100000...|\n",
      "+---------------+--------------------+\n",
      "only showing top 20 rows\n",
      "\n"
     ]
    }
   ],
   "source": [
    "vecAssembler = VectorAssembler(inputCols=FEATURES_COL, outputCol=\"features\")\n",
    "df_kmeans = vecAssembler.transform(batting).select('player_name', 'features')\n",
    "df_kmeans.show()\n",
    "\n",
    "vecAssembler_bowl = VectorAssembler(inputCols=FEATURES_COL_BOWL, outputCol=\"features_bowl\")\n",
    "df_kmeans_bowl = vecAssembler_bowl.transform(bowling).select('player_name', 'features_bowl')\n",
    "df_kmeans_bowl.show()\n"
   ]
  },
  {
   "cell_type": "code",
   "execution_count": 14,
   "metadata": {},
   "outputs": [],
   "source": [
    "cost = np.zeros(20)\n",
    "for k in range(2,20):\n",
    "    kmeans = KMeans().setK(k).setSeed(1).setFeaturesCol(\"features\")\n",
    "    model = kmeans.fit(df_kmeans.sample(False,0.1, seed=42))\n",
    "    cost[k] = model.computeCost(df_kmeans) # requires Spark 2.0 or later\n",
    "\n",
    "cost_bowl = np.zeros(20)\n",
    "for k in range(2,20):\n",
    "    kmeans = KMeans().setK(k).setSeed(1).setFeaturesCol(\"features_bowl\")\n",
    "    model = kmeans.fit(df_kmeans_bowl.sample(False,0.1, seed=42))\n",
    "    cost_bowl[k] = model.computeCost(df_kmeans_bowl) # requires Spark 2.0 or later"
   ]
  },
  {
   "cell_type": "code",
   "execution_count": 15,
   "metadata": {},
   "outputs": [
    {
     "data": {
      "text/plain": [
       "Text(0,0.5,'cost_bowl')"
      ]
     },
     "execution_count": 15,
     "metadata": {},
     "output_type": "execute_result"
    },
    {
     "data": {
      "image/png": "[encoded data removed]",
      "text/plain": [
       "<matplotlib.figure.Figure at 0x7fc4b5ddf4e0>"
      ]
     },
     "metadata": {},
     "output_type": "display_data"
    },
    {
     "data": {
      "image/png": "[encoded data removed]",
      "text/plain": [
       "<matplotlib.figure.Figure at 0x7fc4b5df8a90>"
      ]
     },
     "metadata": {},
     "output_type": "display_data"
    }
   ],
   "source": [
    "fig, ax = plt.subplots(1,1, figsize =(8,6))\n",
    "ax.plot(range(2,20),cost[2:20])\n",
    "ax.set_xlabel('k')\n",
    "ax.set_ylabel('cost')\n",
    "\n",
    "fig, ax = plt.subplots(1,1, figsize =(8,6))\n",
    "ax.plot(range(2,20),cost_bowl[2:20])\n",
    "ax.set_xlabel('k')\n",
    "ax.set_ylabel('cost_bowl')"
   ]
  },
  {
   "cell_type": "code",
   "execution_count": 17,
   "metadata": {},
   "outputs": [],
   "source": [
    "#so k=10 for the batsman \n",
    "#k=7 for the bowlers\n"
   ]
  }
 ],
 "metadata": {
  "kernelspec": {
   "display_name": "Python 3",
   "language": "python",
   "name": "python3"
  },
  "language_info": {
   "codemirror_mode": {
    "name": "ipython",
    "version": 3
   },
   "file_extension": ".py",
   "mimetype": "text/x-python",
   "name": "python",
   "nbconvert_exporter": "python",
   "pygments_lexer": "ipython3",
   "version": "3.6.6"
  }
 },
 "nbformat": 4,
 "nbformat_minor": 2
}
