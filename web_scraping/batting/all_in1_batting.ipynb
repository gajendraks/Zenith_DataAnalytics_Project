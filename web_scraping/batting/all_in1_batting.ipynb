{
 "cells": [
  {
   "cell_type": "code",
   "execution_count": 1,
   "metadata": {},
   "outputs": [
    {
     "name": "stderr",
     "output_type": "stream",
     "text": [
      "/usr/lib/python3/dist-packages/bs4/__init__.py:181: UserWarning: No parser was explicitly specified, so I'm using the best available HTML parser for this system (\"lxml\"). This usually isn't a problem, but if you run this code on another system, or in a different virtual environment, it may use a different parser and behave differently.\n",
      "\n",
      "The code that caused this warning is on line 193 of the file /usr/lib/python3.6/runpy.py. To get rid of this warning, change code that looks like this:\n",
      "\n",
      " BeautifulSoup(YOUR_MARKUP})\n",
      "\n",
      "to this:\n",
      "\n",
      " BeautifulSoup(YOUR_MARKUP, \"lxml\")\n",
      "\n",
      "  markup_type=markup_type))\n"
     ]
    }
   ],
   "source": [
    "# scraping the data from the web\n",
    "import pandas as pd\n",
    "import numpy as np\n",
    "\n",
    "from urllib.request import urlopen\n",
    "\n",
    "from bs4 import BeautifulSoup\n",
    "page_list=[\n",
    "          \"http://stats.espncricinfo.com/ci/engine/records/averages/batting.html?id=117;team=4343;type=trophy\",\n",
    "          \"http://stats.espncricinfo.com/ci/engine/records/averages/batting.html?id=117;team=4347;type=trophy\",\n",
    "          \"http://stats.espncricinfo.com/ci/engine/records/averages/batting.html?id=117;team=4344;type=trophy\",\n",
    "          \"http://stats.espncricinfo.com/ci/engine/records/averages/batting.html?id=117;team=5845;type=trophy\",\n",
    "          \"http://stats.espncricinfo.com/ci/engine/records/averages/batting.html?id=117;team=4342;type=trophy\",\n",
    "          \"http://stats.espncricinfo.com/ci/engine/records/averages/batting.html?id=117;team=4788;type=trophy\",\n",
    "          \"http://stats.espncricinfo.com/ci/engine/records/averages/batting.html?id=117;team=4341;type=trophy\",\n",
    "          \"http://stats.espncricinfo.com/ci/engine/records/averages/batting.html?id=117;team=4346;type=trophy\",\n",
    "          \"http://stats.espncricinfo.com/ci/engine/records/averages/batting.html?id=117;team=4787;type=trophy\",\n",
    "          \"http://stats.espncricinfo.com/ci/engine/records/averages/batting.html?id=117;team=4345;type=trophy\",\n",
    "          \"http://stats.espncricinfo.com/ci/engine/records/averages/batting.html?id=117;team=5843;type=trophy\",\n",
    "          \"http://stats.espncricinfo.com/ci/engine/records/averages/batting.html?id=117;team=4340;type=trophy\",\n",
    "          \"http://stats.espncricinfo.com/ci/engine/records/averages/batting.html?id=117;team=5143;type=trophy\"]\n",
    "\n",
    "names = [       \n",
    "    \"Chennai Super Kings\",\"Deccan Chargers\",\"Delhi Daredevils\",\"Gujarat Lions\",\"Kings XI Punjab\",\n",
    "    \"Kochi Tuskers Kerala\",\"Kolkata Knight Riders\",\"Mumbai Indians\",\"Pune Warriors\",\"Rajasthan Royals\",\n",
    "    \"Rising Pune Supergiants\",\"Royal Challengers Bangalore\",\"Sunrisers Hyderabad\"\n",
    "    ]\n",
    "ext = \".csv\"\n",
    "k=0\n",
    "for i in page_list:\n",
    "    page = urlopen(i)\n",
    "    soup = BeautifulSoup(page)\n",
    "    right_table=soup.find('table', class_='engineTable')\n",
    "    l = []\n",
    "    th=right_table.find_all(\"th\")\n",
    "    head=[hd.text for hd in th]\n",
    "    for tr in right_table.findAll(\"tr\"):\n",
    "        td = tr.find_all('td')\n",
    "        row = [tr.text for tr in td]\n",
    "        l.append(row)\n",
    "    df=pd.DataFrame(l)\n",
    "    df.columns=head\n",
    "#     print(\"head\",head)\n",
    "#     print(df.head())\n",
    "    df.to_csv(names[k]+ext,index=False)\n",
    "    k+=1\n",
    "    \n",
    "\n",
    "\n",
    "#(important note)after manual cleaning, concatenating the files\n",
    "\n",
    "\n",
    "\n",
    "\n",
    "# from glob import glob\n",
    "# filenames=glob(\"*.csv\")\n",
    "# headers=[\"player_name\",\"matches_played\",\"innings_batted\",\"not_outs\",\"runs_scored\",\"highest_inns_score\",\n",
    "#          \"batting_average\",\"balls_faced\",\"batting_strike_rate\",\"hundreds_scored\",\"fifties_scored\",\n",
    "#          \"duckes_scored\",\"boundary_fours\",\"boundary_sixes\"]   \n",
    "\n",
    "# dfs=[pd.read_csv(x,names=headers) for x in filenames]\n",
    "# combined=pd.concat(dfs)\n",
    "# combined.to_csv(\"all_teams_batting.csv\",index=False)\n",
    "\n",
    "\n"
   ]
  },
  {
   "cell_type": "code",
   "execution_count": 2,
   "metadata": {},
   "outputs": [
    {
     "data": {
      "text/plain": [
       "(953, 14)"
      ]
     },
     "execution_count": 2,
     "metadata": {},
     "output_type": "execute_result"
    }
   ],
   "source": [
    "# df=df.iloc[2:]\n",
    "# print(df.head())\n",
    "\n",
    "from glob import glob\n",
    "filenames=glob(\"*.csv\")\n",
    "dfs=[]\n",
    "headers=[\"player_name\",\"matches_played\",\"innings_batted\",\"not_outs\",\"runs_scored\",\"highest_inns_score\",\n",
    "         \"batting_average\",\"balls_faced\",\"batting_strike_rate\",\"hundreds_scored\",\"fifties_scored\",\n",
    "         \"duckes_scored\",\"boundary_fours\",\"boundary_sixes\"]\n",
    "for i in filenames:\n",
    "    if(i[:-4] in names):\n",
    "        df1=pd.read_csv(i)\n",
    "        df1=df1.iloc[1:]\n",
    "        if 'Span' in df1.columns:\n",
    "            df1.drop(columns=['Span'],inplace=True)\n",
    "        df1.columns=headers        \n",
    "        dfs.append(df1)\n",
    "\n",
    "combined=pd.concat(dfs)\n",
    "combined.to_csv(\"all_teams_batting.csv\",index=False)\n",
    "combined.shape"
   ]
  },
  {
   "cell_type": "code",
   "execution_count": 3,
   "metadata": {},
   "outputs": [
    {
     "data": {
      "text/html": [
       "<div>\n",
       "<style scoped>\n",
       "    .dataframe tbody tr th:only-of-type {\n",
       "        vertical-align: middle;\n",
       "    }\n",
       "\n",
       "    .dataframe tbody tr th {\n",
       "        vertical-align: top;\n",
       "    }\n",
       "\n",
       "    .dataframe thead th {\n",
       "        text-align: right;\n",
       "    }\n",
       "</style>\n",
       "<table border=\"1\" class=\"dataframe\">\n",
       "  <thead>\n",
       "    <tr style=\"text-align: right;\">\n",
       "      <th></th>\n",
       "      <th>player_name</th>\n",
       "      <th>matches_played</th>\n",
       "      <th>innings_batted</th>\n",
       "      <th>not_outs</th>\n",
       "      <th>runs_scored</th>\n",
       "      <th>highest_inns_score</th>\n",
       "      <th>batting_average</th>\n",
       "      <th>balls_faced</th>\n",
       "      <th>batting_strike_rate</th>\n",
       "      <th>hundreds_scored</th>\n",
       "      <th>fifties_scored</th>\n",
       "      <th>duckes_scored</th>\n",
       "      <th>boundary_fours</th>\n",
       "      <th>boundary_sixes</th>\n",
       "    </tr>\n",
       "  </thead>\n",
       "  <tbody>\n",
       "    <tr>\n",
       "      <th>0</th>\n",
       "      <td>VR Aaron</td>\n",
       "      <td>6.0</td>\n",
       "      <td>2</td>\n",
       "      <td>1</td>\n",
       "      <td>4</td>\n",
       "      <td>4</td>\n",
       "      <td>4.00</td>\n",
       "      <td>10</td>\n",
       "      <td>40.00</td>\n",
       "      <td>0</td>\n",
       "      <td>0</td>\n",
       "      <td>0</td>\n",
       "      <td>0</td>\n",
       "      <td>0</td>\n",
       "    </tr>\n",
       "    <tr>\n",
       "      <th>1</th>\n",
       "      <td>KJ Abbott</td>\n",
       "      <td>5.0</td>\n",
       "      <td>3</td>\n",
       "      <td>2</td>\n",
       "      <td>13</td>\n",
       "      <td>12*</td>\n",
       "      <td>13.00</td>\n",
       "      <td>8</td>\n",
       "      <td>162.50</td>\n",
       "      <td>0</td>\n",
       "      <td>0</td>\n",
       "      <td>1</td>\n",
       "      <td>0</td>\n",
       "      <td>1</td>\n",
       "    </tr>\n",
       "    <tr>\n",
       "      <th>2</th>\n",
       "      <td>YA Abdulla</td>\n",
       "      <td>11.0</td>\n",
       "      <td>1</td>\n",
       "      <td>1</td>\n",
       "      <td>0</td>\n",
       "      <td>0*</td>\n",
       "      <td>-</td>\n",
       "      <td>1</td>\n",
       "      <td>0.00</td>\n",
       "      <td>0</td>\n",
       "      <td>0</td>\n",
       "      <td>0</td>\n",
       "      <td>0</td>\n",
       "      <td>0</td>\n",
       "    </tr>\n",
       "    <tr>\n",
       "      <th>3</th>\n",
       "      <td>L Ablish</td>\n",
       "      <td>3.0</td>\n",
       "      <td>1</td>\n",
       "      <td>1</td>\n",
       "      <td>0</td>\n",
       "      <td>0*</td>\n",
       "      <td>-</td>\n",
       "      <td>2</td>\n",
       "      <td>0.00</td>\n",
       "      <td>0</td>\n",
       "      <td>0</td>\n",
       "      <td>0</td>\n",
       "      <td>0</td>\n",
       "      <td>0</td>\n",
       "    </tr>\n",
       "    <tr>\n",
       "      <th>4</th>\n",
       "      <td>AD Nath</td>\n",
       "      <td>1.0</td>\n",
       "      <td>1</td>\n",
       "      <td>0</td>\n",
       "      <td>9</td>\n",
       "      <td>9</td>\n",
       "      <td>9.00</td>\n",
       "      <td>13</td>\n",
       "      <td>69.23</td>\n",
       "      <td>0</td>\n",
       "      <td>0</td>\n",
       "      <td>0</td>\n",
       "      <td>1</td>\n",
       "      <td>0</td>\n",
       "    </tr>\n",
       "  </tbody>\n",
       "</table>\n",
       "</div>"
      ],
      "text/plain": [
       "  player_name  matches_played innings_batted not_outs runs_scored  \\\n",
       "0    VR Aaron             6.0              2        1           4   \n",
       "1   KJ Abbott             5.0              3        2          13   \n",
       "2  YA Abdulla            11.0              1        1           0   \n",
       "3    L Ablish             3.0              1        1           0   \n",
       "4     AD Nath             1.0              1        0           9   \n",
       "\n",
       "  highest_inns_score batting_average balls_faced batting_strike_rate  \\\n",
       "0                  4            4.00          10               40.00   \n",
       "1                12*           13.00           8              162.50   \n",
       "2                 0*               -           1                0.00   \n",
       "3                 0*               -           2                0.00   \n",
       "4                  9            9.00          13               69.23   \n",
       "\n",
       "  hundreds_scored fifties_scored duckes_scored boundary_fours boundary_sixes  \n",
       "0               0              0             0              0              0  \n",
       "1               0              0             1              0              1  \n",
       "2               0              0             0              0              0  \n",
       "3               0              0             0              0              0  \n",
       "4               0              0             0              1              0  "
      ]
     },
     "execution_count": 3,
     "metadata": {},
     "output_type": "execute_result"
    }
   ],
   "source": [
    "df=pd.read_csv(\"all_teams_batting.csv\")\n",
    "df.head()"
   ]
  },
  {
   "cell_type": "code",
   "execution_count": 4,
   "metadata": {},
   "outputs": [],
   "source": [
    "i = df[df.runs_scored=='-'].index #get index of the players who hasn't played a single innigns"
   ]
  },
  {
   "cell_type": "code",
   "execution_count": 5,
   "metadata": {},
   "outputs": [],
   "source": [
    "df.drop(i,inplace=True) #remove the players who hasn't played a single innigns"
   ]
  },
  {
   "cell_type": "code",
   "execution_count": 6,
   "metadata": {},
   "outputs": [
    {
     "data": {
      "text/plain": [
       "(876, 14)"
      ]
     },
     "execution_count": 6,
     "metadata": {},
     "output_type": "execute_result"
    }
   ],
   "source": [
    "df.dtypes\n",
    "df.shape"
   ]
  },
  {
   "cell_type": "code",
   "execution_count": 7,
   "metadata": {},
   "outputs": [],
   "source": [
    "#type casting\n",
    "df['runs_scored']=df['runs_scored'].astype('int64')\n",
    "df['balls_faced']=df['balls_faced'].astype('int64')\n",
    "df['innings_batted']=df['innings_batted'].astype('int64')\n",
    "df['not_outs']=df['not_outs'].astype('int64')"
   ]
  },
  {
   "cell_type": "code",
   "execution_count": 15,
   "metadata": {},
   "outputs": [],
   "source": [
    "#calculating number of times a player is out (required for batting average)\n",
    "df['times_out']=df['innings_batted']-df['not_outs'] "
   ]
  },
  {
   "cell_type": "code",
   "execution_count": 16,
   "metadata": {},
   "outputs": [],
   "source": [
    "#grouping multiple instances of a player into single instance\n",
    "res = df.groupby('player_name').agg({'runs_scored':'sum','balls_faced':'sum','times_out':'sum'}).reset_index()"
   ]
  },
  {
   "cell_type": "code",
   "execution_count": 17,
   "metadata": {},
   "outputs": [],
   "source": [
    "#calculating batting average and strike rate\n",
    "res['batting_avg']=(res['runs_scored']/res['times_out']).round(2)\n",
    "res['strike_rate']=((res['runs_scored']/res['balls_faced'])*100).round(2)"
   ]
  },
  {
   "cell_type": "code",
   "execution_count": 18,
   "metadata": {},
   "outputs": [],
   "source": [
    "#replace infinity values with Nan\n",
    "res['batting_avg']=res['batting_avg'].replace(np.inf,np.nan)"
   ]
  },
  {
   "cell_type": "code",
   "execution_count": 21,
   "metadata": {},
   "outputs": [],
   "source": [
    "res.dropna(inplace=True)\n",
    "res.to_csv('stats_batting_2.csv',index=None)"
   ]
  }
 ],
 "metadata": {
  "kernelspec": {
   "display_name": "Python 3",
   "language": "python",
   "name": "python3"
  },
  "language_info": {
   "codemirror_mode": {
    "name": "ipython",
    "version": 3
   },
   "file_extension": ".py",
   "mimetype": "text/x-python",
   "name": "python",
   "nbconvert_exporter": "python",
   "pygments_lexer": "ipython3",
   "version": "3.6.6"
  }
 },
 "nbformat": 4,
 "nbformat_minor": 2
}
