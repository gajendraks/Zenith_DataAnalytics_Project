{
 "cells": [
  {
   "cell_type": "code",
   "execution_count": 7,
   "metadata": {},
   "outputs": [
    {
     "name": "stdout",
     "output_type": "stream",
     "text": [
      "11 11 20 20\n"
     ]
    }
   ],
   "source": [
    "#match 55\n",
    "t1bat=[\"RV Uthappa\",\"G Gambhir\",\"C Munro\",\"MK Pandey\",\"YK Pathan\",\"JO Holder\",\"Shakib Al Hasan\",\"SA Yadav\",\"AS Rajpoot\", \"SP Narine\", \"Kuldeep Yadav\"]\n",
    "t2bat=['S Dhawan','DA Warner ','NV Ojha ','Yuvraj Singh','KS Williamson','DJ Hooda','MC Henriques','KV Sharma', 'B Kumar','BB Sran',\n",
    " 'Mustafizur Rahman']\n",
    "t1bowl=[\"YK Pathan\",\"AS Rajpoot\",\"Shakib Al Hasan\",\"SP Narine\",\"AS Rajpoot\",\"SP Narine\",\"JO Holder\",\"C Munro\",\"JO Holder\",\"Kuldeep Yadav\",\"Shakib Al Hasan\",\"Kuldeep Yadav\",\"SP Narine\",\"Kuldeep Yadav\",\"Shakib Al Hasan\",\"Kuldeep Yadav\",\"Shakib Al Hasan\",\"SP Narine\",\"JO Holder\",\"AS Rajpoot\"]\n",
    "t2bowl=[\"B Kumar\",\"BB Sran\",\"B Kumar\",\"BB Sran\",\"KS Williamson\",\"DJ Hooda\",\"KV Sharma\",\"DJ Hooda\",\"KV Sharma\",\"MC Henriques\",\"Mustafizur Rahman\",\"MC Henriques\",\"Mustafizur Rahman\",\"KV Sharma\",\"BB Sran\",\"B Kumar\",\"Mustafizur Rahman\",\"BB Sran\",\"Mustafizur Rahman\",\"B Kumar\"]\n",
    "print(len(t1bat),len(t2bat),len(t1bowl),len(t2bowl))"
   ]
  },
  {
   "cell_type": "code",
   "execution_count": 2,
   "metadata": {},
   "outputs": [
    {
     "name": "stdout",
     "output_type": "stream",
     "text": [
      "11 11 20 20\n"
     ]
    }
   ],
   "source": [
    "#match 56\n",
    "t1bat=['Q de Kock ','RR Pant','KK Nair','SV Samson','SW Billings','P Negi','CR Brathwaite','CH Morris','J Yadav','A Mishra','Z Khan']\n",
    "t2bat=['CH Gayle','V Kohli ','AB de Villiers','KL Rahul ','SR Watson','STR Binny','Sachin Baby ','CJ Jordan','Iqbal Abdulla','S Aravind','YS Chahal']\n",
    "t1bowl=['Z Khan','CH Morris','Z Khan','CH Morris','Z Khan','CH Morris','P Negi','A Mishra','P Negi','J Yadav','CR Brathwaite','A Mishra','CR Brathwaite','A Mishra','P Negi','A Mishra','CR Brathwaite','Z Khan','CR Brathwaite','CH Morris']\n",
    "t2bowl=['STR Binny','S Aravind','CJ Jordan','S Aravind','SR Watson','YS Chahal','STR Binny','YS Chahal','SR Watson','YS Chahal','Iqbal Abdulla','CJ Jordan','CH Gayle','S Aravind','CH Gayle','S Aravind','YS Chahal','SR Watson','Iqbal Abdulla','SR Watson']\n",
    "print(len(t1bat),len(t2bat),len(t1bowl),len(t2bowl))"
   ]
  },
  {
   "cell_type": "code",
   "execution_count": 3,
   "metadata": {},
   "outputs": [
    {
     "name": "stdout",
     "output_type": "stream",
     "text": [
      "11 11 20 20\n"
     ]
    }
   ],
   "source": [
    "#match 57\n",
    "t1bat=['AJ Finch','BB McCullum','SK Raina ', 'KD Karthik', 'DR Smith', 'RA Jadeja', 'DJ Bravo', 'ER Dwivedi', 'P Kumar', 'DS Kulkarni','SB Jakati']\n",
    "t2bat=['CH Gayle', 'V Kohli', 'AB de Villiers', 'KL Rahul', 'SR Watson', 'Sachin Baby', 'STR Binny', 'Iqbal Abdulla', 'CJ Jordan', 'S Aravind', 'YS Chahal']\n",
    "t1bowl=['P Kumar', 'DS Kulkarni', 'P Kumar', 'DS Kulkarni', 'RA Jadeja', 'DS Kulkarni', 'RA Jadeja', 'DS Kulkarni', 'SB Jakati', 'RA Jadeja', 'SB Jakati', 'DJ Bravo', 'RA Jadeja', 'DJ Bravo', 'DR Smith', 'SB Jakati', 'P Kumar', 'DJ Bravo', 'P Kumar', 'DJ Bravo']\n",
    "t2bowl=['S Aravind', 'Iqbal Abdulla', 'S Aravind', 'SR Watson', 'Iqbal Abdulla', 'SR Watson', 'CJ Jordan', 'YS Chahal', 'STR Binny', 'YS Chahal', 'Iqbal Abdulla', 'YS Chahal', 'Iqbal Abdulla', 'CJ Jordan', 'S Aravind', 'SR Watson', 'YS Chahal', 'CJ Jordan', 'SR Watson', 'CJ Jordan']\n",
    "print(len(t1bat),len(t2bat),len(t1bowl),len(t2bowl))"
   ]
  },
  {
   "cell_type": "code",
   "execution_count": 4,
   "metadata": {},
   "outputs": [
    {
     "name": "stdout",
     "output_type": "stream",
     "text": [
      "11 11 20 20\n"
     ]
    }
   ],
   "source": [
    "# MATCH 59\n",
    "t1bat=['ER Dwivedi', 'BB McCullum', 'SK Raina', 'KD Karthik', 'AJ Finch', 'DR Smith', 'RA Jadeja', 'DJ Bravo', 'DS Kulkarni', 'P Kumar', 'S Kaushik']\n",
    "t2bat=['DA Warner', 'S Dhawan', 'MC Henriques', 'Yuvraj Singh', 'DJ Hooda', 'BCJ Cutting', 'NV Ojha', 'Bipul Sharma', 'B Kumar', 'BB Sran', 'TA Boult']\n",
    "t1bowl=['P Kumar', 'DS Kulkarni', 'P Kumar', 'DS Kulkarni', 'DR Smith', 'SK Raina', 'S Kaushik', 'SK Raina', 'S Kaushik', 'DJ Bravo', 'S Kaushik', 'DJ Bravo', 'S Kaushik', 'DS Kulkarni', 'DR Smith', 'DJ Bravo', 'P Kumar', 'DS Kulkarni', 'DJ Bravo', 'P Kumar']\n",
    "t2bowl=['B Kumar', 'TA Boult', 'B Kumar', 'TA Boult', 'BB Sran', 'Bipul Sharma', 'BCJ Cutting', 'MC Henriques', 'Bipul Sharma', 'MC Henriques', 'BB Sran', 'Bipul Sharma', 'BCJ Cutting', 'MC Henriques', 'BB Sran', 'TA Boult', 'B Kumar', 'BCJ Cutting', 'TA Boult', 'B Kumar']\n",
    "print(len(t1bat),len(t2bat),len(t1bowl),len(t2bowl))"
   ]
  },
  {
   "cell_type": "code",
   "execution_count": 5,
   "metadata": {},
   "outputs": [
    {
     "name": "stdout",
     "output_type": "stream",
     "text": [
      "11 11 20 20\n"
     ]
    }
   ],
   "source": [
    "# MATCH 60\n",
    "t1bat=['DA Warner', 'S Dhawan', 'MC Henriques', 'Yuvraj Singh', 'DJ Hooda', 'BCJ Cutting', 'NV Ojha', 'Bipul Sharma', 'B Kumar', 'BB Sran', 'Mustafizur Rahman']\n",
    "t2bat=['CH Gayle', 'V Kohli', 'AB de Villiers', 'KL Rahul', 'SR Watson', 'Sachin Baby', 'STR Binny', 'CJ Jordan', 'Iqbal Abdulla', 'S Arvind', 'YS Chahal']\n",
    "t1bowl=['B Kumar', 'BB Sran', 'B Kumar', 'BB Sran', 'BCJ Cutting', 'Mustafizur Rahman', 'MC Henriques', 'BCJ Cutting', 'MC Henriques', 'Mustafizur Rahman', 'BCJ Cutting', 'Bipul Sharma', 'BB Sran', 'Bipul Sharma', 'MC Henriques', 'BCJ Cutting', 'Mustafizur Rahman', 'B Kumar', 'Mustafizur Rahman', 'B Kumar']\n",
    "t2bowl=['S Aravind', 'CH Gayle', 'S Aravind', 'CH Gayle', 'SR Watson', 'CH Gayle', 'YS Chahal', 'Iqbal Abdulla', 'YS Chahal', 'CJ Jordan', 'SR Watson', 'CJ Jordan', 'YS Chahal', 'S Aravind', 'YS Chahal', 'S Aravind', 'CJ Jordan', 'SR Watson', 'CJ Jordan', 'SR Watson']\n",
    "print(len(t1bat),len(t2bat),len(t1bowl),len(t2bowl))"
   ]
  },
  {
   "cell_type": "code",
   "execution_count": 14,
   "metadata": {},
   "outputs": [
    {
     "name": "stdout",
     "output_type": "stream",
     "text": [
      "11 11 20 20\n"
     ]
    }
   ],
   "source": [
    "# match 58\n",
    "t1bat=[\"DA Warner\",\"S Dhawan\",\"MC Henriques\",\"Yuvraj Singh\",\"DJ Hooda\",\"BCJ Cutting\",\"NV Ojha\", \"B Kumar\",\"Bipul Sharma\",\"BB Sran\",\"Mustafizur Rahman\"]\n",
    "t2bat=[\"RV Uthappa\",\"G Gambhir\",\"C Munro\",\"MK Pandey\",\"YK Pathan\",\"SA Yadav\",\"R Sathish\",\"JO Holder\",\"SP Narine\",\"M Morkel\",\"Kuldeep Yadav\"]\n",
    "t1bowl=[\"B Kumar\",\"BB Sran\",\"DJ Hooda\",\"BB Sran\",\"B Kumar\",\"Mustafizur Rahman\",\"MC Henriques\",\"BCJ Cutting\",\"Bipul Sharma\",\"BCJ Cutting\",\"MC Henriques\",\"Bipul Sharma\",\"Mustafizur Rahman\",\"BCJ Cutting\",\"BB Sran\",\"MC Henriques\",\"Mustafizur Rahman\",\"B Kumar\",\"Mustafizur Rahman\",\"B Kumar\"]\n",
    "t2bowl=[\"YK Pathan\",\"M Morkel\",\"YK Pathan\",\"M Morkel\",\"YK Pathan\",\"SP Narine\",\"JO Holder\",\"Kuldeep Yadav\",\"JO Holder\",\"Kuldeep Yadav\",\"SP Narine\",\"R Sathish\",\"Kuldeep Yadav\",\"M Morkel\",\"SP Narine\",\"JO Holder\",\"Kuldeep Yadav\",\"SP Narine\",\"JO Holder\",\"M Morkel\"]\n",
    "print(len(t1bat),len(t2bat),len(t1bowl),len(t2bowl))"
   ]
  },
  {
   "cell_type": "code",
   "execution_count": 15,
   "metadata": {},
   "outputs": [
    {
     "name": "stdout",
     "output_type": "stream",
     "text": [
      "11 11 20 20\n"
     ]
    }
   ],
   "source": [
    "# match 54\n",
    "t1bat=[\"RG Sharma\", \"MJ Guptill\",\"N Rana\",\"KH Pandya\",\"JC Buttler\",\"KA Pollard\",\"HH Pandya\",\"Harbhajan Singh\",\"R Vinay Kumar\",\"MJ McClenaghan\",\"JJ Bumrah\"]\n",
    "t2bat=[\"AJ Finch\",\"BB McCullum\",\"SK Raina\",\"KD Karthik\",\"DR Smith\",\"RA Jadeja\",\"DJ Bravo\",\"ER Dwivedi\",\"SB Jakati\",\"P Kumar\",\"DS Kulkarni\"]\n",
    "t1bowl=[\"R Vinay Kumar\",\"JJ Bumrah\",\"MJ McClenaghan\",\"R Vinay Kumar\",\"KH Pandya\",\"JJ Bumrah\",\"KH Pandya\",\"Harbhajan Singh\",\"MJ McClenaghan\",\"Harbhajan Singh\",\"R Vinay Kumar\",\"Harbhajan Singh\",\"JJ Bumrah\",\"Harbhajan Singh\",\"MJ McClenaghan\",\"HH Pandya\",\"JJ Bumrah\",\"MJ McClenaghan\",\"R Vinay Kumar\",\"HH Pandya\"]\n",
    "t2bowl=[\"P Kumar\",\"DS Kulkarni\",\"P Kumar\",\"DS Kulkarni\",\"DR Smith\",\"P Kumar\",\"DR Smith\",\"SB Jakati\",\"DR Smith\",\"DJ Bravo\",\"RA Jadeja\",\"DR Smith\",\"SB Jakati\",\"DJ Bravo\",\"SB Jakati\",\"DS Kulkarni\",\"DJ Bravo\",\"DS Kulkarni\",\"DJ Bravo\",\"P Kumar\"]\n",
    "print(len(t1bat),len(t2bat),len(t1bowl),len(t2bowl))"
   ]
  },
  {
   "cell_type": "code",
   "execution_count": 17,
   "metadata": {},
   "outputs": [
    {
     "name": "stdout",
     "output_type": "stream",
     "text": [
      "11 11 20 20\n"
     ]
    }
   ],
   "source": [
    "#match 53\n",
    "t1bat=[\"HM AMla\",\"M Vijay\",\"WP Saha\",\"Gurkeerat Singh\",\"DA Miller\",\"F Behardien\",\"AR Patel\",\"R Dhawan\",\"KJ Abbott\",\"MM Sharma\",\"Sandeep Sharma\"]\n",
    "t2bat=[\"AM Rahane\",\"UT Khawaja\",\"GJ Bailey\",\"SS Tiwary\",\"MS Dhoni\",\"IK Pathan\",\"NLTC Perera\",\"R Ashwin\",\"A Zampa\",\"AB Dinda\",\"DL Chahar\"]\n",
    "t1bowl=[\"Sandeep Sharma\",\"MM Sharma\",\"Sandeep Sharma\",\"KJ Abbott\",\"Sandeep Sharma\",\"MM Sharma\",\"AR Patel\",\"Gurkeerat Singh\",\"R Dhawan\",\"KJ Abbott\",\"R Dhawan\",\"Gurkeerat Singh\",\"AR Patel\",\"R Dhawan\",\"AR Patel\",\"KJ Abbott\",\"MM Sharma\",\"Sandeep Sharma\",\"MM Sharma\",\"AR Patel\"]\n",
    "t2bowl=[\"IK Pathan\",\"AB Dinda\",\"DL Chahar\",\"AB Dinda\",\"DL Chahar\",\"NLTC Perera\",\"IK Pathan\",\"R Aswhin\",\"A Zampa\",\"R Aswhin\",\"A Zampa\",\"DL Chahar\",\"A Zampa\",\"IK Pathan\",\"A Zampa\",\"R Aswhin\",\"IK Pathan\",\"R Aswhin\",\"AB Dinda\",\"NLTC Perera\"]\n",
    "print(len(t1bat),len(t2bat),len(t1bowl),len(t2bowl))"
   ]
  },
  {
   "cell_type": "code",
   "execution_count": 20,
   "metadata": {},
   "outputs": [
    {
     "name": "stdout",
     "output_type": "stream",
     "text": [
      "11 11 20 20\n"
     ]
    }
   ],
   "source": [
    "t1bat=[\"PP Shaw\",\"C Munro\",\"SS Iyer\",\"RR Pant\",\"GJ Maxwell\",\"V Shankar\",\"R Tewatia\",\"LE Plunkett\",\"A Mishra\",\"Avesh Khan\",\"TA Boult\"]\n",
    "t2bat=['CA Lynn','SP Narine','RV Uthappa','N Rana','KD Karthik','Shubman Gill','AD Russell','Shivam Mavi','PP Chawla','MG Johnson','Kuldeep Yadav']\n",
    "t1bowl=['TA Boult','GJ Maxwell','TA Boult','Avesh Khan','LE Plunkett','Avesh Khan','LE Plunkett','A Mishra','V Shankar','A Mishra','LE Plunkett','Avesh Khan','TA Boult',\n",
    "'A Mishra','R Tewatia','A Mishra','LE Plunkett','Avesh Khan','GJ Maxwell','TA Boult']\n",
    "t2bowl=['PP Chawla','Kuldeep Yadav','PP Chawla','Shivam Mavi','SP Narine','MG Johnson','Shivam Mavi','AD Russell','MG Johnson','SP Narine','AD Russell','Kuldeep Yadav',\n",
    "'MG Johnson','PP Chawla','AD Russell','PP Chawla','Shivam Mavi','SP Narine','MG Johnson','Shivam Mavi']\n",
    "print(len(t1bat),len(t2bat),len(t1bowl),len(t2bowl))"
   ]
  }
 ],
 "metadata": {
  "kernelspec": {
   "display_name": "Python 3",
   "language": "python",
   "name": "python3"
  },
  "language_info": {
   "codemirror_mode": {
    "name": "ipython",
    "version": 3
   },
   "file_extension": ".py",
   "mimetype": "text/x-python",
   "name": "python",
   "nbconvert_exporter": "python",
   "pygments_lexer": "ipython3",
   "version": "3.7.0"
  }
 },
 "nbformat": 4,
 "nbformat_minor": 2
}
