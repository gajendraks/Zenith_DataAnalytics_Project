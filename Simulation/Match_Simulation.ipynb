{
 "cells": [
  {
   "cell_type": "code",
   "execution_count": 146,
   "metadata": {},
   "outputs": [],
   "source": [
    "import csv\n",
    "import string\n",
    "import random\n",
    "import pandas as pd\n",
    "import numpy as np\n",
    "import matplotlib.pyplot as plt"
   ]
  },
  {
   "cell_type": "code",
   "execution_count": 147,
   "metadata": {},
   "outputs": [],
   "source": [
    "pp_prob=pd.read_csv('./../Data/pp_prob.csv')\n",
    "batsman_cluster=pd.read_csv('./../Data//batting_cluster.csv')\n",
    "bowler_cluster=pd.read_csv('./../Data//bowling_cluster.csv')\n",
    "cluster_prob=pd.read_csv('./../Data//cluster_prob.csv')\n",
    "\n"
   ]
  },
  {
   "cell_type": "code",
   "execution_count": 148,
   "metadata": {},
   "outputs": [
    {
     "name": "stdout",
     "output_type": "stream",
     "text": [
      "          batsman         bowler        P0        P1        P2   P3        P4  \\\n",
      "0  A Ashish Reddy        A Nehra  0.555556  0.333333  0.000000  0.0  0.111111   \n",
      "1  A Ashish Reddy       AB Dinda  0.142857  0.714286  0.000000  0.0  0.142857   \n",
      "2  A Ashish Reddy     AD Mathews  0.166667  0.416667  0.166667  0.0  0.083333   \n",
      "3  A Ashish Reddy     AD Russell  0.000000  0.666667  0.333333  0.0  0.000000   \n",
      "4  A Ashish Reddy  Anureet Singh  0.000000  1.000000  0.000000  0.0  0.000000   \n",
      "\n",
      "         P6  p_not_out  \n",
      "0  0.000000   0.888889  \n",
      "1  0.000000        NaN  \n",
      "2  0.166667        NaN  \n",
      "3  0.000000        NaN  \n",
      "4  0.000000        NaN  \n",
      "      player_name  cluster\n",
      "0  A Ashish Reddy        2\n",
      "1        A Chopra        7\n",
      "2     A Choudhary        7\n",
      "3      A Flintoff        7\n",
      "4        A Kumble        7\n",
      "      player_name  cluster\n",
      "0  A Ashish Reddy        4\n",
      "1      A Chandila        4\n",
      "2     A Choudhary        0\n",
      "3      A Flintoff        0\n",
      "4        A Kumble        2\n",
      "   batsman_cluster  bowler_cluster    P0    P1    P2    P3    P4    P6  \\\n",
      "0                0               0  0.41  0.35  0.06  0.00  0.11  0.06   \n",
      "1                0               1  0.40  0.39  0.07  0.00  0.10  0.04   \n",
      "2                0               2  0.40  0.39  0.06  0.00  0.10  0.04   \n",
      "3                0               3  0.39  0.40  0.06  0.00  0.11  0.04   \n",
      "4                0               4  0.39  0.40  0.06  0.01  0.09  0.05   \n",
      "\n",
      "   p_not_out  \n",
      "0       0.56  \n",
      "1       0.84  \n",
      "2       0.75  \n",
      "3       0.81  \n",
      "4       0.69  \n"
     ]
    }
   ],
   "source": [
    "print(pp_prob.head())\n",
    "print(batsman_cluster.head())\n",
    "print(bowler_cluster.head())\n",
    "print(cluster_prob.head())\n",
    "# pp_prob.head()"
   ]
  },
  {
   "cell_type": "code",
   "execution_count": 149,
   "metadata": {},
   "outputs": [],
   "source": [
    "def pro_fun(batsman,bowler):\n",
    "    a=pp_prob[(pp_prob.batsman == batsman) & (pp_prob.bowler == bowler)]\n",
    "    prob=[]\n",
    "    flag=0\n",
    "    x=a.empty is True\n",
    "    if(a.empty is False):\n",
    "        for i in a.values[0][2:]:\n",
    "            prob.append(i)\n",
    "        if(np.isnan(prob[-1])):\n",
    "            flag=1\n",
    "    if((flag==1) | (a.empty is True)):\n",
    "        b=batsman_cluster[batsman_cluster.player_name==batsman]\n",
    "        if(b.empty is False):\n",
    "            batsman_cluster_no=b.values[0][1]\n",
    "        else:\n",
    "            batsman_cluster_no=random.randint(0,9)\n",
    "        c=bowler_cluster[bowler_cluster.player_name==bowler]\n",
    "        if(c.empty is False):\n",
    "            bowler_cluster_no=c.values[0][1]\n",
    "        else:\n",
    "            bowler_cluster_no=random.randint(0,6)\n",
    "        d=cluster_prob[(cluster_prob.bowler_cluster==bowler_cluster_no) & (cluster_prob.batsman_cluster==batsman_cluster_no)]\n",
    "        if(flag==1):\n",
    "            prob[-1]=d.values[0][-1]\n",
    "        else:\n",
    "            for i in d.values[0][2:]:\n",
    "                prob.append(i)\n",
    "    return prob\n",
    "              \n",
    "    "
   ]
  },
  {
   "cell_type": "code",
   "execution_count": 150,
   "metadata": {},
   "outputs": [],
   "source": [
    "#innings1\n",
    "def predict_score(t1bat,t2bat,t1bowl,t2bowl,output):\n",
    "    bat=1\n",
    "    batsmen=[0,1]\n",
    "    innings1_run=[]\n",
    "    innings1_wicket=[]\n",
    "    score=[0,0]\n",
    "    wickets=[0,0]\n",
    "    overs=[0.0,0.0]\n",
    "    prob={}\n",
    "    flag=0\n",
    "    for i in range(20):\n",
    "        bowler= t2bowl[i]\n",
    "        if(flag==1):\n",
    "            break\n",
    "        for j in range(6):\n",
    "            if(flag==1):\n",
    "                break\n",
    "            bat_bowl = (t1bat[batsmen[0]],bowler)\n",
    "            val = pro_fun(bat_bowl[0],bat_bowl[1])\n",
    "            runs_prob = val[:6]\n",
    "            cum_prob=0\n",
    "            run=0\n",
    "            if(bat_bowl[0] not in prob.keys()):\n",
    "                prob[bat_bowl[0]]=val[-1]\n",
    "            else:\n",
    "                prob[bat_bowl[0]]*=val[-1]\n",
    "            if(prob[bat_bowl[0]] < 0.05):\n",
    "                wickets[0]+=1\n",
    "                innings1_run.append(0)\n",
    "                innings1_wicket.append((i*6)+j+1)\n",
    "                if(wickets[0]==10):\n",
    "                    flag=1\n",
    "                    overs[0]=i+((j+1)*0.1)\n",
    "                bat+=1\n",
    "                batsmen[0]=bat\n",
    "\n",
    "            else:\n",
    "                rand=random.random()\n",
    "                for y in range(6):\n",
    "                    cum_prob+=runs_prob[y]\n",
    "                    if(cum_prob > rand):\n",
    "                        if(y==5):\n",
    "                            run=6\n",
    "                        else:\n",
    "                            run=y\n",
    "                        break\n",
    "                innings1_run.append(run)\n",
    "                score[0]+=run\n",
    "                if(run==1 or run == 3):\n",
    "                    batsmen[0],batsmen[1]=batsmen[1],batsmen[0]\n",
    "            overs[0]=i+((j+1)*0.1)\n",
    "            \n",
    "\n",
    "        batsmen[0],batsmen[1]=batsmen[1],batsmen[0]\n",
    "\n",
    "    #innings2\n",
    "    bat=1\n",
    "    batsmen=[0,1]\n",
    "    innings2_run=[]\n",
    "    innings2_wicket=[]\n",
    "    wickets[1]=0\n",
    "    score[1]=0\n",
    "    flag=0\n",
    "    prob1={}\n",
    "    for i in range(20):\n",
    "        bowler= t1bowl[i]\n",
    "        if(flag==1):\n",
    "            break\n",
    "        for j in range(6):\n",
    "            if(flag==1):\n",
    "                break\n",
    "            bat_bowl = (t2bat[batsmen[0]],bowler)\n",
    "            val = pro_fun(bat_bowl[0],bat_bowl[1])\n",
    "            runs_prob = val[:6]\n",
    "            cum_prob=0\n",
    "            run=0\n",
    "            if(bat_bowl[0] not in prob1.keys()):\n",
    "                prob1[bat_bowl[0]]=val[-1]\n",
    "            else:\n",
    "                prob1[bat_bowl[0]]*=val[-1]\n",
    "            if(prob1[bat_bowl[0]] < 0.05):\n",
    "                wickets[1]+=1\n",
    "                innings2_run.append(0)\n",
    "                innings2_wicket.append((i*6)+j+1)\n",
    "                if(wickets[1]==10):\n",
    "                    flag=1\n",
    "                    overs[1]=i+((j+1)*0.1)\n",
    "                bat+=1\n",
    "                batsmen[0]=bat\n",
    "\n",
    "            else:\n",
    "                rand=random.random()\n",
    "                for y in range(6):\n",
    "                    cum_prob+=runs_prob[y]\n",
    "                    if(cum_prob > rand):\n",
    "                        if(y==5):\n",
    "                            run=6\n",
    "                        else:\n",
    "                            run=y\n",
    "                        break\n",
    "                innings2_run.append(run)\n",
    "                score[1]+=run\n",
    "                if(score[1]>score[0]):\n",
    "                    flag=1\n",
    "                if(run==1 or run == 3):\n",
    "                    batsmen[0],batsmen[1]=batsmen[1],batsmen[0]\n",
    "            overs[1]=i+((j+1)*0.1)\n",
    "\n",
    "        batsmen[0],batsmen[1]=batsmen[1],batsmen[0]\n",
    "    if(output==\"print_score\"):\n",
    "        print('Innings 1 ')\n",
    "        print('Score / wicket / overs')\n",
    "        print(score[0],'/',wickets[0] ,'/',overs[0])\n",
    "\n",
    "        print('Innings 2 ')\n",
    "        print('Score / wicket','overs')\n",
    "        print(score[1],'/',wickets[1],'/',overs[1])\n",
    "    elif(output==\"Winner\"):\n",
    "        print(overs[0],overs[1])\n",
    "        if(score[0]>score[1]):\n",
    "            return [0,score[0],score[1]]\n",
    "        else:\n",
    "            return [1,score[0],score[1]]"
   ]
  },
  {
   "cell_type": "code",
   "execution_count": 170,
   "metadata": {},
   "outputs": [
    {
     "name": "stdout",
     "output_type": "stream",
     "text": [
      "11 11 20 20\n"
     ]
    }
   ],
   "source": [
    "#match 57\n",
    "t1bat=['AJ Finch','BB McCullum','SK Raina ', 'KD Karthik', 'DR Smith', 'RA Jadeja', 'DJ Bravo', 'ER Dwivedi', 'P Kumar', 'DS Kulkarni','SB Jakati']\n",
    "t2bat=['CH Gayle', 'V Kohli', 'AB de Villiers', 'KL Rahul', 'SR Watson', 'Sachin Baby', 'STR Binny', 'Iqbal Abdulla', 'CJ Jordan', 'S Aravind', 'YS Chahal']\n",
    "t1bowl=['P Kumar', 'DS Kulkarni', 'P Kumar', 'DS Kulkarni', 'RA Jadeja', 'DS Kulkarni', 'RA Jadeja', 'DS Kulkarni', 'SB Jakati', 'RA Jadeja', 'SB Jakati', 'DJ Bravo', 'RA Jadeja', 'DJ Bravo', 'DR Smith', 'SB Jakati', 'P Kumar', 'DJ Bravo', 'P Kumar', 'DJ Bravo']\n",
    "t2bowl=['S Aravind', 'Iqbal Abdulla', 'S Aravind', 'SR Watson', 'Iqbal Abdulla', 'SR Watson', 'CJ Jordan', 'YS Chahal', 'STR Binny', 'YS Chahal', 'Iqbal Abdulla', 'YS Chahal', 'Iqbal Abdulla', 'CJ Jordan', 'S Aravind', 'SR Watson', 'YS Chahal', 'CJ Jordan', 'SR Watson', 'CJ Jordan']\n",
    "print(len(t1bat),len(t2bat),len(t1bowl),len(t2bowl))"
   ]
  },
  {
   "cell_type": "code",
   "execution_count": 171,
   "metadata": {},
   "outputs": [
    {
     "name": "stdout",
     "output_type": "stream",
     "text": [
      "19.6 19.6\n"
     ]
    },
    {
     "data": {
      "text/plain": [
       "[0, 168, 135]"
      ]
     },
     "execution_count": 171,
     "metadata": {},
     "output_type": "execute_result"
    }
   ],
   "source": [
    "predict_score(t1bat,t2bat,t1bowl,t2bowl,\"Winner\")"
   ]
  },
  {
   "cell_type": "code",
   "execution_count": 158,
   "metadata": {},
   "outputs": [],
   "source": [
    "#actual win team 0\n",
    "#actual score (171,149)\n",
    "# score_pred=[]\n",
    "# win_prediction=[]\n",
    "# for i in range(20):\n",
    "#     a=predict_score(t1bat,t2bat,t1bowl,t2bowl,\"Winner\")\n",
    "#     win_prediction.append(a[0])\n",
    "#     score_pred.append((a[1],a[2]))\n",
    "# print(win_prediction)\n",
    "# print(score_pred)"
   ]
  },
  {
   "cell_type": "code",
   "execution_count": 173,
   "metadata": {
    "scrolled": true
   },
   "outputs": [
    {
     "data": {
      "text/plain": [
       "[<matplotlib.lines.Line2D at 0x1e896d7d978>,\n",
       " <matplotlib.lines.Line2D at 0x1e896d7dac8>]"
      ]
     },
     "execution_count": 173,
     "metadata": {},
     "output_type": "execute_result"
    },
    {
     "data": {
      "image/png": "[encoded data removed]",
      "text/plain": [
       "<Figure size 432x288 with 1 Axes>"
      ]
     },
     "metadata": {
      "needs_background": "light"
     },
     "output_type": "display_data"
    }
   ],
   "source": [
    "plt.plot([x for x in range(20)],[score_pred[i][0] for i in range(20)],'r',[x for x in range(20)],[score_pred[i][1] for i in range(20)],'b')\n"
   ]
  }
 ],
 "metadata": {
  "kernelspec": {
   "display_name": "Python 3",
   "language": "python",
   "name": "python3"
  },
  "language_info": {
   "codemirror_mode": {
    "name": "ipython",
    "version": 3
   },
   "file_extension": ".py",
   "mimetype": "text/x-python",
   "name": "python",
   "nbconvert_exporter": "python",
   "pygments_lexer": "ipython3",
   "version": "3.7.0"
  }
 },
 "nbformat": 4,
 "nbformat_minor": 2
}
